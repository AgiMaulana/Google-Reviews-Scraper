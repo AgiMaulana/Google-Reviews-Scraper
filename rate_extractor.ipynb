{
 "cells": [
  {
   "cell_type": "code",
   "execution_count": 22,
   "metadata": {
    "collapsed": true,
    "pycharm": {
     "is_executing": false
    }
   },
   "outputs": [
    {
     "data": {
      "text/plain": "'Diberi nilai 1,0 dari 5,'"
     },
     "metadata": {},
     "output_type": "execute_result",
     "execution_count": 22
    }
   ],
   "source": [
    "rate = \"Diberi nilai 1,0 dari 5,\"\n",
    "rate"
   ]
  },
  {
   "cell_type": "code",
   "execution_count": 23,
   "outputs": [
    {
     "data": {
      "text/plain": "1"
     },
     "metadata": {},
     "output_type": "execute_result",
     "execution_count": 23
    }
   ],
   "source": [
    "rating = rate[len('Diberi nilai'):len('Diberi nilai')+4].strip()\n",
    "round(float(rating.replace(',','.')))"
   ],
   "metadata": {
    "collapsed": false,
    "pycharm": {
     "name": "#%%\n",
     "is_executing": false
    }
   }
  },
  {
   "cell_type": "code",
   "execution_count": 25,
   "outputs": [],
   "source": [
    "import pandas as pd\n",
    "rate = 1\n",
    "review = 'aa'\n",
    "df = pd.read_csv('reviews.csv')\n",
    "rates, reviews = df.rate.values.tolist(), df.review.values.tolist()\n",
    "if type(rate) == list:\n",
    "    rates.extend(rate)\n",
    "    reviews.extend(review)\n",
    "else:\n",
    "    rates.append(rate)\n",
    "    reviews.append(review)\n",
    "pd.DataFrame({'rate': rates, 'review': reviews}).to_csv('reviews.csv', index=False)"
   ],
   "metadata": {
    "collapsed": false,
    "pycharm": {
     "name": "#%%\n",
     "is_executing": false
    }
   }
  }
 ],
 "metadata": {
  "language_info": {
   "codemirror_mode": {
    "name": "ipython",
    "version": 2
   },
   "file_extension": ".py",
   "mimetype": "text/x-python",
   "name": "python",
   "nbconvert_exporter": "python",
   "pygments_lexer": "ipython2",
   "version": "2.7.6"
  },
  "kernelspec": {
   "name": "python3",
   "language": "python",
   "display_name": "Python 3"
  },
  "pycharm": {
   "stem_cell": {
    "cell_type": "raw",
    "source": [],
    "metadata": {
     "collapsed": false
    }
   }
  }
 },
 "nbformat": 4,
 "nbformat_minor": 0
}